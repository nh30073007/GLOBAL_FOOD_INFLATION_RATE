{
 "cells": [
  {
   "cell_type": "code",
   "execution_count": 2,
   "id": "de13b374",
   "metadata": {},
   "outputs": [
    {
     "name": "stdout",
     "output_type": "stream",
     "text": [
      "   Open  High   Low  Close  Inflation      country ISO3        date\n",
      "0  0.53  0.54  0.53   0.53        NaN  Afghanistan  AFG  2007-01-01\n",
      "1  0.53  0.54  0.53   0.53        NaN  Afghanistan  AFG  2007-02-01\n",
      "2  0.54  0.54  0.53   0.53        NaN  Afghanistan  AFG  2007-03-01\n",
      "3  0.53  0.55  0.53   0.55        NaN  Afghanistan  AFG  2007-04-01\n",
      "4  0.56  0.57  0.56   0.57        NaN  Afghanistan  AFG  2007-05-01\n",
      "                    country iso3  \\\n",
      "0               Afghanistan  AFG   \n",
      "1                   Burundi  BDI   \n",
      "2              Burkina Faso  BFA   \n",
      "3  Central African Republic  CAF   \n",
      "4                  Cameroon  CMR   \n",
      "\n",
      "                                          components currency  \\\n",
      "0  Bread (1 KG, Index Weight = 1), Rice (Low Qual...      AFN   \n",
      "1  Bananas (1 KG, Index Weight = 1), Beans (1 KG,...      BIF   \n",
      "2  Maize (White) (1 KG, Index Weight = 1), Millet...      XOF   \n",
      "3  Cassava (Cossette) (1 KG, Index Weight = 1), M...      XAF   \n",
      "4  Bananas (12 KG, Index Weight = 0.08), Cassava ...      XAF   \n",
      "\n",
      "  start_date_observations end_date_observations  number_of_markets_modeled  \\\n",
      "0                Jan 2007              Sep 2023                         40   \n",
      "1                Jan 2007              Aug 2023                         72   \n",
      "2                Jan 2007              Jul 2023                         64   \n",
      "3                Jan 2007              Jun 2023                         42   \n",
      "4                Apr 2010              Aug 2023                         83   \n",
      "\n",
      "   number_of_markets_covered  number_of_food_items  \\\n",
      "0                         40                     3   \n",
      "1                         72                    10   \n",
      "2                         64                     3   \n",
      "3                         42                     5   \n",
      "4                         83                    10   \n",
      "\n",
      "                         number_of_observations_food  ...  \\\n",
      "0               bread: 2318, rice: 2701, wheat: 2682  ...   \n",
      "1  bananas: 5344, beans: 5963, cassava_flour: 594...  ...   \n",
      "2           maize: 6615, millet: 7618, sorghum: 7177  ...   \n",
      "3  cassava: 2259, maize: 2025, meat_beef: 2147, o...  ...   \n",
      "4  bananas: 621, cassava: 624, cocoyam: 624, fish...  ...   \n",
      "\n",
      "  total_food_price_increase_since_start_date  \\\n",
      "0                                    167.97%   \n",
      "1                                    254.94%   \n",
      "2                                    201.25%   \n",
      "3                                    134.62%   \n",
      "4                                     39.02%   \n",
      "\n",
      "  average_annualized_food_inflation maximum_food_drawdown  \\\n",
      "0                             6.06%               -40.67%   \n",
      "1                             7.86%               -30.77%   \n",
      "2                             6.81%                -36.7%   \n",
      "3                             5.22%               -24.85%   \n",
      "4                             2.47%                -2.79%   \n",
      "\n",
      "  average_annualized_food_volatility  \\\n",
      "0                              7.93%   \n",
      "1                             12.03%   \n",
      "2                             13.71%   \n",
      "3                             13.74%   \n",
      "4                              1.84%   \n",
      "\n",
      "  average_monthly_food_price_correlation_between_markets  \\\n",
      "0                                               0.62       \n",
      "1                                               0.60       \n",
      "2                                               0.57       \n",
      "3                                               0.39       \n",
      "4                                               0.25       \n",
      "\n",
      "  average_annual_food_price_correlation_between_markets  \\\n",
      "0                                               0.87      \n",
      "1                                               0.83      \n",
      "2                                               0.80      \n",
      "3                                               0.59      \n",
      "4                                               0.67      \n",
      "\n",
      "                      Rsquared_individual_food_items  \\\n",
      "0               bread: 0.94, rice: 0.89, wheat: 0.93   \n",
      "1  bananas: 0.88, beans: 0.9, cassava_flour: 0.89...   \n",
      "2           maize: 0.84, millet: 0.83, sorghum: 0.81   \n",
      "3  cassava: 0.89, maize: 0.88, meat_beef: 0.95, o...   \n",
      "4  bananas: 0.96, cassava: 0.96, cocoyam: 0.98, f...   \n",
      "\n",
      "                     Rsquared_individual_other_items  index_confidence_score  \\\n",
      "0  exchange_rate_wfp: 1, fuel_diesel: 0.97, wage_...                    0.92   \n",
      "1                                                 :                     0.90   \n",
      "2                                                 :                     0.83   \n",
      "3                                                 :                     0.89   \n",
      "4                                                 :                     0.98   \n",
      "\n",
      "                                    imputation_model  \n",
      "0  bread: cubist (Andree, 2021), rice: two-stage ...  \n",
      "1  bananas: two-stage cubist (Andree and Pape, 20...  \n",
      "2  maize: cubist (Andree, 2021), millet: cubist (...  \n",
      "3  cassava: cubist (Andree, 2021), maize: cubist ...  \n",
      "4  bananas: two-stage cubist (Andree and Pape, 20...  \n",
      "\n",
      "[5 rows x 23 columns]\n"
     ]
    }
   ],
   "source": [
    "import pandas as pd\n",
    "\n",
    "# DATA PATH\n",
    "data_paths = [\n",
    "    \"WLD_RTFP_country_2023-10-02.csv\",\n",
    "    \"WLD_RTP_details_2023-10-02.csv\"\n",
    "]\n",
    "\n",
    "data_df = [pd.read_csv(f\"C:\\\\Users\\\\nh013\\\\Desktop\\\\Global Food Price Inflation\\\\{path}\") for path in data_paths]\n",
    "\n",
    "\n",
    "for df in data_df:\n",
    "    print(df.head())"
   ]
  },
  {
   "cell_type": "code",
   "execution_count": null,
   "id": "f822a414",
   "metadata": {},
   "outputs": [],
   "source": []
  },
  {
   "cell_type": "code",
   "execution_count": 4,
   "id": "0687704b",
   "metadata": {},
   "outputs": [
    {
     "data": {
      "text/html": [
       "<div>\n",
       "<style scoped>\n",
       "    .dataframe tbody tr th:only-of-type {\n",
       "        vertical-align: middle;\n",
       "    }\n",
       "\n",
       "    .dataframe tbody tr th {\n",
       "        vertical-align: top;\n",
       "    }\n",
       "\n",
       "    .dataframe thead th {\n",
       "        text-align: right;\n",
       "    }\n",
       "</style>\n",
       "<table border=\"1\" class=\"dataframe\">\n",
       "  <thead>\n",
       "    <tr style=\"text-align: right;\">\n",
       "      <th></th>\n",
       "      <th>country</th>\n",
       "      <th>iso3</th>\n",
       "      <th>components</th>\n",
       "      <th>currency</th>\n",
       "      <th>start_date_observations</th>\n",
       "      <th>end_date_observations</th>\n",
       "      <th>number_of_markets_modeled</th>\n",
       "      <th>number_of_markets_covered</th>\n",
       "      <th>number_of_food_items</th>\n",
       "      <th>number_of_observations_food</th>\n",
       "      <th>...</th>\n",
       "      <th>total_food_price_increase_since_start_date</th>\n",
       "      <th>average_annualized_food_inflation</th>\n",
       "      <th>maximum_food_drawdown</th>\n",
       "      <th>average_annualized_food_volatility</th>\n",
       "      <th>average_monthly_food_price_correlation_between_markets</th>\n",
       "      <th>average_annual_food_price_correlation_between_markets</th>\n",
       "      <th>Rsquared_individual_food_items</th>\n",
       "      <th>Rsquared_individual_other_items</th>\n",
       "      <th>index_confidence_score</th>\n",
       "      <th>imputation_model</th>\n",
       "    </tr>\n",
       "  </thead>\n",
       "  <tbody>\n",
       "    <tr>\n",
       "      <th>0</th>\n",
       "      <td>Afghanistan</td>\n",
       "      <td>AFG</td>\n",
       "      <td>Bread (1 KG, Index Weight = 1), Rice (Low Qual...</td>\n",
       "      <td>AFN</td>\n",
       "      <td>Jan 2007</td>\n",
       "      <td>Sep 2023</td>\n",
       "      <td>40</td>\n",
       "      <td>40</td>\n",
       "      <td>3</td>\n",
       "      <td>bread: 2318, rice: 2701, wheat: 2682</td>\n",
       "      <td>...</td>\n",
       "      <td>167.97%</td>\n",
       "      <td>6.06%</td>\n",
       "      <td>-40.67%</td>\n",
       "      <td>7.93%</td>\n",
       "      <td>0.62</td>\n",
       "      <td>0.87</td>\n",
       "      <td>bread: 0.94, rice: 0.89, wheat: 0.93</td>\n",
       "      <td>exchange_rate_wfp: 1, fuel_diesel: 0.97, wage_...</td>\n",
       "      <td>0.92</td>\n",
       "      <td>bread: cubist (Andree, 2021), rice: two-stage ...</td>\n",
       "    </tr>\n",
       "    <tr>\n",
       "      <th>1</th>\n",
       "      <td>Burundi</td>\n",
       "      <td>BDI</td>\n",
       "      <td>Bananas (1 KG, Index Weight = 1), Beans (1 KG,...</td>\n",
       "      <td>BIF</td>\n",
       "      <td>Jan 2007</td>\n",
       "      <td>Aug 2023</td>\n",
       "      <td>72</td>\n",
       "      <td>72</td>\n",
       "      <td>10</td>\n",
       "      <td>bananas: 5344, beans: 5963, cassava_flour: 594...</td>\n",
       "      <td>...</td>\n",
       "      <td>254.94%</td>\n",
       "      <td>7.86%</td>\n",
       "      <td>-30.77%</td>\n",
       "      <td>12.03%</td>\n",
       "      <td>0.60</td>\n",
       "      <td>0.83</td>\n",
       "      <td>bananas: 0.88, beans: 0.9, cassava_flour: 0.89...</td>\n",
       "      <td>:</td>\n",
       "      <td>0.90</td>\n",
       "      <td>bananas: two-stage cubist (Andree and Pape, 20...</td>\n",
       "    </tr>\n",
       "    <tr>\n",
       "      <th>2</th>\n",
       "      <td>Burkina Faso</td>\n",
       "      <td>BFA</td>\n",
       "      <td>Maize (White) (1 KG, Index Weight = 1), Millet...</td>\n",
       "      <td>XOF</td>\n",
       "      <td>Jan 2007</td>\n",
       "      <td>Jul 2023</td>\n",
       "      <td>64</td>\n",
       "      <td>64</td>\n",
       "      <td>3</td>\n",
       "      <td>maize: 6615, millet: 7618, sorghum: 7177</td>\n",
       "      <td>...</td>\n",
       "      <td>201.25%</td>\n",
       "      <td>6.81%</td>\n",
       "      <td>-36.7%</td>\n",
       "      <td>13.71%</td>\n",
       "      <td>0.57</td>\n",
       "      <td>0.80</td>\n",
       "      <td>maize: 0.84, millet: 0.83, sorghum: 0.81</td>\n",
       "      <td>:</td>\n",
       "      <td>0.83</td>\n",
       "      <td>maize: cubist (Andree, 2021), millet: cubist (...</td>\n",
       "    </tr>\n",
       "    <tr>\n",
       "      <th>3</th>\n",
       "      <td>Central African Republic</td>\n",
       "      <td>CAF</td>\n",
       "      <td>Cassava (Cossette) (1 KG, Index Weight = 1), M...</td>\n",
       "      <td>XAF</td>\n",
       "      <td>Jan 2007</td>\n",
       "      <td>Jun 2023</td>\n",
       "      <td>42</td>\n",
       "      <td>42</td>\n",
       "      <td>5</td>\n",
       "      <td>cassava: 2259, maize: 2025, meat_beef: 2147, o...</td>\n",
       "      <td>...</td>\n",
       "      <td>134.62%</td>\n",
       "      <td>5.22%</td>\n",
       "      <td>-24.85%</td>\n",
       "      <td>13.74%</td>\n",
       "      <td>0.39</td>\n",
       "      <td>0.59</td>\n",
       "      <td>cassava: 0.89, maize: 0.88, meat_beef: 0.95, o...</td>\n",
       "      <td>:</td>\n",
       "      <td>0.89</td>\n",
       "      <td>cassava: cubist (Andree, 2021), maize: cubist ...</td>\n",
       "    </tr>\n",
       "    <tr>\n",
       "      <th>4</th>\n",
       "      <td>Cameroon</td>\n",
       "      <td>CMR</td>\n",
       "      <td>Bananas (12 KG, Index Weight = 0.08), Cassava ...</td>\n",
       "      <td>XAF</td>\n",
       "      <td>Apr 2010</td>\n",
       "      <td>Aug 2023</td>\n",
       "      <td>83</td>\n",
       "      <td>83</td>\n",
       "      <td>10</td>\n",
       "      <td>bananas: 621, cassava: 624, cocoyam: 624, fish...</td>\n",
       "      <td>...</td>\n",
       "      <td>39.02%</td>\n",
       "      <td>2.47%</td>\n",
       "      <td>-2.79%</td>\n",
       "      <td>1.84%</td>\n",
       "      <td>0.25</td>\n",
       "      <td>0.67</td>\n",
       "      <td>bananas: 0.96, cassava: 0.96, cocoyam: 0.98, f...</td>\n",
       "      <td>:</td>\n",
       "      <td>0.98</td>\n",
       "      <td>bananas: two-stage cubist (Andree and Pape, 20...</td>\n",
       "    </tr>\n",
       "  </tbody>\n",
       "</table>\n",
       "<p>5 rows × 23 columns</p>\n",
       "</div>"
      ],
      "text/plain": [
       "                    country iso3  \\\n",
       "0               Afghanistan  AFG   \n",
       "1                   Burundi  BDI   \n",
       "2              Burkina Faso  BFA   \n",
       "3  Central African Republic  CAF   \n",
       "4                  Cameroon  CMR   \n",
       "\n",
       "                                          components currency  \\\n",
       "0  Bread (1 KG, Index Weight = 1), Rice (Low Qual...      AFN   \n",
       "1  Bananas (1 KG, Index Weight = 1), Beans (1 KG,...      BIF   \n",
       "2  Maize (White) (1 KG, Index Weight = 1), Millet...      XOF   \n",
       "3  Cassava (Cossette) (1 KG, Index Weight = 1), M...      XAF   \n",
       "4  Bananas (12 KG, Index Weight = 0.08), Cassava ...      XAF   \n",
       "\n",
       "  start_date_observations end_date_observations  number_of_markets_modeled  \\\n",
       "0                Jan 2007              Sep 2023                         40   \n",
       "1                Jan 2007              Aug 2023                         72   \n",
       "2                Jan 2007              Jul 2023                         64   \n",
       "3                Jan 2007              Jun 2023                         42   \n",
       "4                Apr 2010              Aug 2023                         83   \n",
       "\n",
       "   number_of_markets_covered  number_of_food_items  \\\n",
       "0                         40                     3   \n",
       "1                         72                    10   \n",
       "2                         64                     3   \n",
       "3                         42                     5   \n",
       "4                         83                    10   \n",
       "\n",
       "                         number_of_observations_food  ...  \\\n",
       "0               bread: 2318, rice: 2701, wheat: 2682  ...   \n",
       "1  bananas: 5344, beans: 5963, cassava_flour: 594...  ...   \n",
       "2           maize: 6615, millet: 7618, sorghum: 7177  ...   \n",
       "3  cassava: 2259, maize: 2025, meat_beef: 2147, o...  ...   \n",
       "4  bananas: 621, cassava: 624, cocoyam: 624, fish...  ...   \n",
       "\n",
       "  total_food_price_increase_since_start_date  \\\n",
       "0                                    167.97%   \n",
       "1                                    254.94%   \n",
       "2                                    201.25%   \n",
       "3                                    134.62%   \n",
       "4                                     39.02%   \n",
       "\n",
       "  average_annualized_food_inflation maximum_food_drawdown  \\\n",
       "0                             6.06%               -40.67%   \n",
       "1                             7.86%               -30.77%   \n",
       "2                             6.81%                -36.7%   \n",
       "3                             5.22%               -24.85%   \n",
       "4                             2.47%                -2.79%   \n",
       "\n",
       "  average_annualized_food_volatility  \\\n",
       "0                              7.93%   \n",
       "1                             12.03%   \n",
       "2                             13.71%   \n",
       "3                             13.74%   \n",
       "4                              1.84%   \n",
       "\n",
       "  average_monthly_food_price_correlation_between_markets  \\\n",
       "0                                               0.62       \n",
       "1                                               0.60       \n",
       "2                                               0.57       \n",
       "3                                               0.39       \n",
       "4                                               0.25       \n",
       "\n",
       "  average_annual_food_price_correlation_between_markets  \\\n",
       "0                                               0.87      \n",
       "1                                               0.83      \n",
       "2                                               0.80      \n",
       "3                                               0.59      \n",
       "4                                               0.67      \n",
       "\n",
       "                      Rsquared_individual_food_items  \\\n",
       "0               bread: 0.94, rice: 0.89, wheat: 0.93   \n",
       "1  bananas: 0.88, beans: 0.9, cassava_flour: 0.89...   \n",
       "2           maize: 0.84, millet: 0.83, sorghum: 0.81   \n",
       "3  cassava: 0.89, maize: 0.88, meat_beef: 0.95, o...   \n",
       "4  bananas: 0.96, cassava: 0.96, cocoyam: 0.98, f...   \n",
       "\n",
       "                     Rsquared_individual_other_items  index_confidence_score  \\\n",
       "0  exchange_rate_wfp: 1, fuel_diesel: 0.97, wage_...                    0.92   \n",
       "1                                                 :                     0.90   \n",
       "2                                                 :                     0.83   \n",
       "3                                                 :                     0.89   \n",
       "4                                                 :                     0.98   \n",
       "\n",
       "                                    imputation_model  \n",
       "0  bread: cubist (Andree, 2021), rice: two-stage ...  \n",
       "1  bananas: two-stage cubist (Andree and Pape, 20...  \n",
       "2  maize: cubist (Andree, 2021), millet: cubist (...  \n",
       "3  cassava: cubist (Andree, 2021), maize: cubist ...  \n",
       "4  bananas: two-stage cubist (Andree and Pape, 20...  \n",
       "\n",
       "[5 rows x 23 columns]"
      ]
     },
     "execution_count": 4,
     "metadata": {},
     "output_type": "execute_result"
    }
   ],
   "source": [
    "import pandas as pd\n",
    "\n",
    "# DATAPATH1\n",
    "data_df1 = pd.read_csv(r\"C:\\Users\\nh013\\Desktop\\Global Food Price Inflation\\WLD_RTFP_country_2023-10-02.csv\")\n",
    "\n",
    "# DATAPATH2\n",
    "data_df2 = pd.read_csv(r\"C:\\Users\\nh013\\Desktop\\Global Food Price Inflation\\WLD_RTP_details_2023-10-02.csv\")\n",
    "\n",
    "\n",
    "data_df1.head()\n",
    "data_df2.head()"
   ]
  },
  {
   "cell_type": "code",
   "execution_count": null,
   "id": "8a7b210d",
   "metadata": {},
   "outputs": [],
   "source": []
  },
  {
   "cell_type": "code",
   "execution_count": 5,
   "id": "f16917a7",
   "metadata": {},
   "outputs": [
    {
     "data": {
      "application/vnd.plotly.v1+json": {
       "config": {
        "plotlyServerURL": "https://plot.ly"
       },
       "data": [
        {
         "alignmentgroup": "True",
         "hovertemplate": "x=%{x}<br>y=%{y}<extra></extra>",
         "legendgroup": "",
         "marker": {
          "color": "#636efa",
          "pattern": {
           "shape": ""
          }
         },
         "name": "",
         "offsetgroup": "",
         "orientation": "v",
         "showlegend": false,
         "textposition": "auto",
         "type": "bar",
         "x": [
          "South Sudan"
         ],
         "xaxis": "x",
         "y": [
          363.1
         ],
         "yaxis": "y"
        }
       ],
       "layout": {
        "barmode": "relative",
        "legend": {
         "tracegroupgap": 0
        },
        "template": {
         "data": {
          "bar": [
           {
            "error_x": {
             "color": "#2a3f5f"
            },
            "error_y": {
             "color": "#2a3f5f"
            },
            "marker": {
             "line": {
              "color": "#E5ECF6",
              "width": 0.5
             },
             "pattern": {
              "fillmode": "overlay",
              "size": 10,
              "solidity": 0.2
             }
            },
            "type": "bar"
           }
          ],
          "barpolar": [
           {
            "marker": {
             "line": {
              "color": "#E5ECF6",
              "width": 0.5
             },
             "pattern": {
              "fillmode": "overlay",
              "size": 10,
              "solidity": 0.2
             }
            },
            "type": "barpolar"
           }
          ],
          "carpet": [
           {
            "aaxis": {
             "endlinecolor": "#2a3f5f",
             "gridcolor": "white",
             "linecolor": "white",
             "minorgridcolor": "white",
             "startlinecolor": "#2a3f5f"
            },
            "baxis": {
             "endlinecolor": "#2a3f5f",
             "gridcolor": "white",
             "linecolor": "white",
             "minorgridcolor": "white",
             "startlinecolor": "#2a3f5f"
            },
            "type": "carpet"
           }
          ],
          "choropleth": [
           {
            "colorbar": {
             "outlinewidth": 0,
             "ticks": ""
            },
            "type": "choropleth"
           }
          ],
          "contour": [
           {
            "colorbar": {
             "outlinewidth": 0,
             "ticks": ""
            },
            "colorscale": [
             [
              0,
              "#0d0887"
             ],
             [
              0.1111111111111111,
              "#46039f"
             ],
             [
              0.2222222222222222,
              "#7201a8"
             ],
             [
              0.3333333333333333,
              "#9c179e"
             ],
             [
              0.4444444444444444,
              "#bd3786"
             ],
             [
              0.5555555555555556,
              "#d8576b"
             ],
             [
              0.6666666666666666,
              "#ed7953"
             ],
             [
              0.7777777777777778,
              "#fb9f3a"
             ],
             [
              0.8888888888888888,
              "#fdca26"
             ],
             [
              1,
              "#f0f921"
             ]
            ],
            "type": "contour"
           }
          ],
          "contourcarpet": [
           {
            "colorbar": {
             "outlinewidth": 0,
             "ticks": ""
            },
            "type": "contourcarpet"
           }
          ],
          "heatmap": [
           {
            "colorbar": {
             "outlinewidth": 0,
             "ticks": ""
            },
            "colorscale": [
             [
              0,
              "#0d0887"
             ],
             [
              0.1111111111111111,
              "#46039f"
             ],
             [
              0.2222222222222222,
              "#7201a8"
             ],
             [
              0.3333333333333333,
              "#9c179e"
             ],
             [
              0.4444444444444444,
              "#bd3786"
             ],
             [
              0.5555555555555556,
              "#d8576b"
             ],
             [
              0.6666666666666666,
              "#ed7953"
             ],
             [
              0.7777777777777778,
              "#fb9f3a"
             ],
             [
              0.8888888888888888,
              "#fdca26"
             ],
             [
              1,
              "#f0f921"
             ]
            ],
            "type": "heatmap"
           }
          ],
          "heatmapgl": [
           {
            "colorbar": {
             "outlinewidth": 0,
             "ticks": ""
            },
            "colorscale": [
             [
              0,
              "#0d0887"
             ],
             [
              0.1111111111111111,
              "#46039f"
             ],
             [
              0.2222222222222222,
              "#7201a8"
             ],
             [
              0.3333333333333333,
              "#9c179e"
             ],
             [
              0.4444444444444444,
              "#bd3786"
             ],
             [
              0.5555555555555556,
              "#d8576b"
             ],
             [
              0.6666666666666666,
              "#ed7953"
             ],
             [
              0.7777777777777778,
              "#fb9f3a"
             ],
             [
              0.8888888888888888,
              "#fdca26"
             ],
             [
              1,
              "#f0f921"
             ]
            ],
            "type": "heatmapgl"
           }
          ],
          "histogram": [
           {
            "marker": {
             "pattern": {
              "fillmode": "overlay",
              "size": 10,
              "solidity": 0.2
             }
            },
            "type": "histogram"
           }
          ],
          "histogram2d": [
           {
            "colorbar": {
             "outlinewidth": 0,
             "ticks": ""
            },
            "colorscale": [
             [
              0,
              "#0d0887"
             ],
             [
              0.1111111111111111,
              "#46039f"
             ],
             [
              0.2222222222222222,
              "#7201a8"
             ],
             [
              0.3333333333333333,
              "#9c179e"
             ],
             [
              0.4444444444444444,
              "#bd3786"
             ],
             [
              0.5555555555555556,
              "#d8576b"
             ],
             [
              0.6666666666666666,
              "#ed7953"
             ],
             [
              0.7777777777777778,
              "#fb9f3a"
             ],
             [
              0.8888888888888888,
              "#fdca26"
             ],
             [
              1,
              "#f0f921"
             ]
            ],
            "type": "histogram2d"
           }
          ],
          "histogram2dcontour": [
           {
            "colorbar": {
             "outlinewidth": 0,
             "ticks": ""
            },
            "colorscale": [
             [
              0,
              "#0d0887"
             ],
             [
              0.1111111111111111,
              "#46039f"
             ],
             [
              0.2222222222222222,
              "#7201a8"
             ],
             [
              0.3333333333333333,
              "#9c179e"
             ],
             [
              0.4444444444444444,
              "#bd3786"
             ],
             [
              0.5555555555555556,
              "#d8576b"
             ],
             [
              0.6666666666666666,
              "#ed7953"
             ],
             [
              0.7777777777777778,
              "#fb9f3a"
             ],
             [
              0.8888888888888888,
              "#fdca26"
             ],
             [
              1,
              "#f0f921"
             ]
            ],
            "type": "histogram2dcontour"
           }
          ],
          "mesh3d": [
           {
            "colorbar": {
             "outlinewidth": 0,
             "ticks": ""
            },
            "type": "mesh3d"
           }
          ],
          "parcoords": [
           {
            "line": {
             "colorbar": {
              "outlinewidth": 0,
              "ticks": ""
             }
            },
            "type": "parcoords"
           }
          ],
          "pie": [
           {
            "automargin": true,
            "type": "pie"
           }
          ],
          "scatter": [
           {
            "fillpattern": {
             "fillmode": "overlay",
             "size": 10,
             "solidity": 0.2
            },
            "type": "scatter"
           }
          ],
          "scatter3d": [
           {
            "line": {
             "colorbar": {
              "outlinewidth": 0,
              "ticks": ""
             }
            },
            "marker": {
             "colorbar": {
              "outlinewidth": 0,
              "ticks": ""
             }
            },
            "type": "scatter3d"
           }
          ],
          "scattercarpet": [
           {
            "marker": {
             "colorbar": {
              "outlinewidth": 0,
              "ticks": ""
             }
            },
            "type": "scattercarpet"
           }
          ],
          "scattergeo": [
           {
            "marker": {
             "colorbar": {
              "outlinewidth": 0,
              "ticks": ""
             }
            },
            "type": "scattergeo"
           }
          ],
          "scattergl": [
           {
            "marker": {
             "colorbar": {
              "outlinewidth": 0,
              "ticks": ""
             }
            },
            "type": "scattergl"
           }
          ],
          "scattermapbox": [
           {
            "marker": {
             "colorbar": {
              "outlinewidth": 0,
              "ticks": ""
             }
            },
            "type": "scattermapbox"
           }
          ],
          "scatterpolar": [
           {
            "marker": {
             "colorbar": {
              "outlinewidth": 0,
              "ticks": ""
             }
            },
            "type": "scatterpolar"
           }
          ],
          "scatterpolargl": [
           {
            "marker": {
             "colorbar": {
              "outlinewidth": 0,
              "ticks": ""
             }
            },
            "type": "scatterpolargl"
           }
          ],
          "scatterternary": [
           {
            "marker": {
             "colorbar": {
              "outlinewidth": 0,
              "ticks": ""
             }
            },
            "type": "scatterternary"
           }
          ],
          "surface": [
           {
            "colorbar": {
             "outlinewidth": 0,
             "ticks": ""
            },
            "colorscale": [
             [
              0,
              "#0d0887"
             ],
             [
              0.1111111111111111,
              "#46039f"
             ],
             [
              0.2222222222222222,
              "#7201a8"
             ],
             [
              0.3333333333333333,
              "#9c179e"
             ],
             [
              0.4444444444444444,
              "#bd3786"
             ],
             [
              0.5555555555555556,
              "#d8576b"
             ],
             [
              0.6666666666666666,
              "#ed7953"
             ],
             [
              0.7777777777777778,
              "#fb9f3a"
             ],
             [
              0.8888888888888888,
              "#fdca26"
             ],
             [
              1,
              "#f0f921"
             ]
            ],
            "type": "surface"
           }
          ],
          "table": [
           {
            "cells": {
             "fill": {
              "color": "#EBF0F8"
             },
             "line": {
              "color": "white"
             }
            },
            "header": {
             "fill": {
              "color": "#C8D4E3"
             },
             "line": {
              "color": "white"
             }
            },
            "type": "table"
           }
          ]
         },
         "layout": {
          "annotationdefaults": {
           "arrowcolor": "#2a3f5f",
           "arrowhead": 0,
           "arrowwidth": 1
          },
          "autotypenumbers": "strict",
          "coloraxis": {
           "colorbar": {
            "outlinewidth": 0,
            "ticks": ""
           }
          },
          "colorscale": {
           "diverging": [
            [
             0,
             "#8e0152"
            ],
            [
             0.1,
             "#c51b7d"
            ],
            [
             0.2,
             "#de77ae"
            ],
            [
             0.3,
             "#f1b6da"
            ],
            [
             0.4,
             "#fde0ef"
            ],
            [
             0.5,
             "#f7f7f7"
            ],
            [
             0.6,
             "#e6f5d0"
            ],
            [
             0.7,
             "#b8e186"
            ],
            [
             0.8,
             "#7fbc41"
            ],
            [
             0.9,
             "#4d9221"
            ],
            [
             1,
             "#276419"
            ]
           ],
           "sequential": [
            [
             0,
             "#0d0887"
            ],
            [
             0.1111111111111111,
             "#46039f"
            ],
            [
             0.2222222222222222,
             "#7201a8"
            ],
            [
             0.3333333333333333,
             "#9c179e"
            ],
            [
             0.4444444444444444,
             "#bd3786"
            ],
            [
             0.5555555555555556,
             "#d8576b"
            ],
            [
             0.6666666666666666,
             "#ed7953"
            ],
            [
             0.7777777777777778,
             "#fb9f3a"
            ],
            [
             0.8888888888888888,
             "#fdca26"
            ],
            [
             1,
             "#f0f921"
            ]
           ],
           "sequentialminus": [
            [
             0,
             "#0d0887"
            ],
            [
             0.1111111111111111,
             "#46039f"
            ],
            [
             0.2222222222222222,
             "#7201a8"
            ],
            [
             0.3333333333333333,
             "#9c179e"
            ],
            [
             0.4444444444444444,
             "#bd3786"
            ],
            [
             0.5555555555555556,
             "#d8576b"
            ],
            [
             0.6666666666666666,
             "#ed7953"
            ],
            [
             0.7777777777777778,
             "#fb9f3a"
            ],
            [
             0.8888888888888888,
             "#fdca26"
            ],
            [
             1,
             "#f0f921"
            ]
           ]
          },
          "colorway": [
           "#636efa",
           "#EF553B",
           "#00cc96",
           "#ab63fa",
           "#FFA15A",
           "#19d3f3",
           "#FF6692",
           "#B6E880",
           "#FF97FF",
           "#FECB52"
          ],
          "font": {
           "color": "#2a3f5f"
          },
          "geo": {
           "bgcolor": "white",
           "lakecolor": "white",
           "landcolor": "#E5ECF6",
           "showlakes": true,
           "showland": true,
           "subunitcolor": "white"
          },
          "hoverlabel": {
           "align": "left"
          },
          "hovermode": "closest",
          "mapbox": {
           "style": "light"
          },
          "paper_bgcolor": "white",
          "plot_bgcolor": "#E5ECF6",
          "polar": {
           "angularaxis": {
            "gridcolor": "white",
            "linecolor": "white",
            "ticks": ""
           },
           "bgcolor": "#E5ECF6",
           "radialaxis": {
            "gridcolor": "white",
            "linecolor": "white",
            "ticks": ""
           }
          },
          "scene": {
           "xaxis": {
            "backgroundcolor": "#E5ECF6",
            "gridcolor": "white",
            "gridwidth": 2,
            "linecolor": "white",
            "showbackground": true,
            "ticks": "",
            "zerolinecolor": "white"
           },
           "yaxis": {
            "backgroundcolor": "#E5ECF6",
            "gridcolor": "white",
            "gridwidth": 2,
            "linecolor": "white",
            "showbackground": true,
            "ticks": "",
            "zerolinecolor": "white"
           },
           "zaxis": {
            "backgroundcolor": "#E5ECF6",
            "gridcolor": "white",
            "gridwidth": 2,
            "linecolor": "white",
            "showbackground": true,
            "ticks": "",
            "zerolinecolor": "white"
           }
          },
          "shapedefaults": {
           "line": {
            "color": "#2a3f5f"
           }
          },
          "ternary": {
           "aaxis": {
            "gridcolor": "white",
            "linecolor": "white",
            "ticks": ""
           },
           "baxis": {
            "gridcolor": "white",
            "linecolor": "white",
            "ticks": ""
           },
           "bgcolor": "#E5ECF6",
           "caxis": {
            "gridcolor": "white",
            "linecolor": "white",
            "ticks": ""
           }
          },
          "title": {
           "x": 0.05
          },
          "xaxis": {
           "automargin": true,
           "gridcolor": "white",
           "linecolor": "white",
           "ticks": "",
           "title": {
            "standoff": 15
           },
           "zerolinecolor": "white",
           "zerolinewidth": 2
          },
          "yaxis": {
           "automargin": true,
           "gridcolor": "white",
           "linecolor": "white",
           "ticks": "",
           "title": {
            "standoff": 15
           },
           "zerolinecolor": "white",
           "zerolinewidth": 2
          }
         }
        },
        "title": {
         "text": "Highest Inflation Rate by Country"
        },
        "xaxis": {
         "anchor": "y",
         "domain": [
          0,
          1
         ],
         "title": {
          "text": "x"
         }
        },
        "yaxis": {
         "anchor": "x",
         "domain": [
          0,
          1
         ],
         "title": {
          "text": "y"
         }
        }
       }
      },
      "text/html": [
       "<div>                            <div id=\"09238c62-c770-4605-abd6-7661f9ddbc9e\" class=\"plotly-graph-div\" style=\"height:525px; width:100%;\"></div>            <script type=\"text/javascript\">                require([\"plotly\"], function(Plotly) {                    window.PLOTLYENV=window.PLOTLYENV || {};                                    if (document.getElementById(\"09238c62-c770-4605-abd6-7661f9ddbc9e\")) {                    Plotly.newPlot(                        \"09238c62-c770-4605-abd6-7661f9ddbc9e\",                        [{\"alignmentgroup\":\"True\",\"hovertemplate\":\"x=%{x}<br>y=%{y}<extra></extra>\",\"legendgroup\":\"\",\"marker\":{\"color\":\"#636efa\",\"pattern\":{\"shape\":\"\"}},\"name\":\"\",\"offsetgroup\":\"\",\"orientation\":\"v\",\"showlegend\":false,\"textposition\":\"auto\",\"x\":[\"South Sudan\"],\"xaxis\":\"x\",\"y\":[363.1],\"yaxis\":\"y\",\"type\":\"bar\"}],                        {\"template\":{\"data\":{\"histogram2dcontour\":[{\"type\":\"histogram2dcontour\",\"colorbar\":{\"outlinewidth\":0,\"ticks\":\"\"},\"colorscale\":[[0.0,\"#0d0887\"],[0.1111111111111111,\"#46039f\"],[0.2222222222222222,\"#7201a8\"],[0.3333333333333333,\"#9c179e\"],[0.4444444444444444,\"#bd3786\"],[0.5555555555555556,\"#d8576b\"],[0.6666666666666666,\"#ed7953\"],[0.7777777777777778,\"#fb9f3a\"],[0.8888888888888888,\"#fdca26\"],[1.0,\"#f0f921\"]]}],\"choropleth\":[{\"type\":\"choropleth\",\"colorbar\":{\"outlinewidth\":0,\"ticks\":\"\"}}],\"histogram2d\":[{\"type\":\"histogram2d\",\"colorbar\":{\"outlinewidth\":0,\"ticks\":\"\"},\"colorscale\":[[0.0,\"#0d0887\"],[0.1111111111111111,\"#46039f\"],[0.2222222222222222,\"#7201a8\"],[0.3333333333333333,\"#9c179e\"],[0.4444444444444444,\"#bd3786\"],[0.5555555555555556,\"#d8576b\"],[0.6666666666666666,\"#ed7953\"],[0.7777777777777778,\"#fb9f3a\"],[0.8888888888888888,\"#fdca26\"],[1.0,\"#f0f921\"]]}],\"heatmap\":[{\"type\":\"heatmap\",\"colorbar\":{\"outlinewidth\":0,\"ticks\":\"\"},\"colorscale\":[[0.0,\"#0d0887\"],[0.1111111111111111,\"#46039f\"],[0.2222222222222222,\"#7201a8\"],[0.3333333333333333,\"#9c179e\"],[0.4444444444444444,\"#bd3786\"],[0.5555555555555556,\"#d8576b\"],[0.6666666666666666,\"#ed7953\"],[0.7777777777777778,\"#fb9f3a\"],[0.8888888888888888,\"#fdca26\"],[1.0,\"#f0f921\"]]}],\"heatmapgl\":[{\"type\":\"heatmapgl\",\"colorbar\":{\"outlinewidth\":0,\"ticks\":\"\"},\"colorscale\":[[0.0,\"#0d0887\"],[0.1111111111111111,\"#46039f\"],[0.2222222222222222,\"#7201a8\"],[0.3333333333333333,\"#9c179e\"],[0.4444444444444444,\"#bd3786\"],[0.5555555555555556,\"#d8576b\"],[0.6666666666666666,\"#ed7953\"],[0.7777777777777778,\"#fb9f3a\"],[0.8888888888888888,\"#fdca26\"],[1.0,\"#f0f921\"]]}],\"contourcarpet\":[{\"type\":\"contourcarpet\",\"colorbar\":{\"outlinewidth\":0,\"ticks\":\"\"}}],\"contour\":[{\"type\":\"contour\",\"colorbar\":{\"outlinewidth\":0,\"ticks\":\"\"},\"colorscale\":[[0.0,\"#0d0887\"],[0.1111111111111111,\"#46039f\"],[0.2222222222222222,\"#7201a8\"],[0.3333333333333333,\"#9c179e\"],[0.4444444444444444,\"#bd3786\"],[0.5555555555555556,\"#d8576b\"],[0.6666666666666666,\"#ed7953\"],[0.7777777777777778,\"#fb9f3a\"],[0.8888888888888888,\"#fdca26\"],[1.0,\"#f0f921\"]]}],\"surface\":[{\"type\":\"surface\",\"colorbar\":{\"outlinewidth\":0,\"ticks\":\"\"},\"colorscale\":[[0.0,\"#0d0887\"],[0.1111111111111111,\"#46039f\"],[0.2222222222222222,\"#7201a8\"],[0.3333333333333333,\"#9c179e\"],[0.4444444444444444,\"#bd3786\"],[0.5555555555555556,\"#d8576b\"],[0.6666666666666666,\"#ed7953\"],[0.7777777777777778,\"#fb9f3a\"],[0.8888888888888888,\"#fdca26\"],[1.0,\"#f0f921\"]]}],\"mesh3d\":[{\"type\":\"mesh3d\",\"colorbar\":{\"outlinewidth\":0,\"ticks\":\"\"}}],\"scatter\":[{\"fillpattern\":{\"fillmode\":\"overlay\",\"size\":10,\"solidity\":0.2},\"type\":\"scatter\"}],\"parcoords\":[{\"type\":\"parcoords\",\"line\":{\"colorbar\":{\"outlinewidth\":0,\"ticks\":\"\"}}}],\"scatterpolargl\":[{\"type\":\"scatterpolargl\",\"marker\":{\"colorbar\":{\"outlinewidth\":0,\"ticks\":\"\"}}}],\"bar\":[{\"error_x\":{\"color\":\"#2a3f5f\"},\"error_y\":{\"color\":\"#2a3f5f\"},\"marker\":{\"line\":{\"color\":\"#E5ECF6\",\"width\":0.5},\"pattern\":{\"fillmode\":\"overlay\",\"size\":10,\"solidity\":0.2}},\"type\":\"bar\"}],\"scattergeo\":[{\"type\":\"scattergeo\",\"marker\":{\"colorbar\":{\"outlinewidth\":0,\"ticks\":\"\"}}}],\"scatterpolar\":[{\"type\":\"scatterpolar\",\"marker\":{\"colorbar\":{\"outlinewidth\":0,\"ticks\":\"\"}}}],\"histogram\":[{\"marker\":{\"pattern\":{\"fillmode\":\"overlay\",\"size\":10,\"solidity\":0.2}},\"type\":\"histogram\"}],\"scattergl\":[{\"type\":\"scattergl\",\"marker\":{\"colorbar\":{\"outlinewidth\":0,\"ticks\":\"\"}}}],\"scatter3d\":[{\"type\":\"scatter3d\",\"line\":{\"colorbar\":{\"outlinewidth\":0,\"ticks\":\"\"}},\"marker\":{\"colorbar\":{\"outlinewidth\":0,\"ticks\":\"\"}}}],\"scattermapbox\":[{\"type\":\"scattermapbox\",\"marker\":{\"colorbar\":{\"outlinewidth\":0,\"ticks\":\"\"}}}],\"scatterternary\":[{\"type\":\"scatterternary\",\"marker\":{\"colorbar\":{\"outlinewidth\":0,\"ticks\":\"\"}}}],\"scattercarpet\":[{\"type\":\"scattercarpet\",\"marker\":{\"colorbar\":{\"outlinewidth\":0,\"ticks\":\"\"}}}],\"carpet\":[{\"aaxis\":{\"endlinecolor\":\"#2a3f5f\",\"gridcolor\":\"white\",\"linecolor\":\"white\",\"minorgridcolor\":\"white\",\"startlinecolor\":\"#2a3f5f\"},\"baxis\":{\"endlinecolor\":\"#2a3f5f\",\"gridcolor\":\"white\",\"linecolor\":\"white\",\"minorgridcolor\":\"white\",\"startlinecolor\":\"#2a3f5f\"},\"type\":\"carpet\"}],\"table\":[{\"cells\":{\"fill\":{\"color\":\"#EBF0F8\"},\"line\":{\"color\":\"white\"}},\"header\":{\"fill\":{\"color\":\"#C8D4E3\"},\"line\":{\"color\":\"white\"}},\"type\":\"table\"}],\"barpolar\":[{\"marker\":{\"line\":{\"color\":\"#E5ECF6\",\"width\":0.5},\"pattern\":{\"fillmode\":\"overlay\",\"size\":10,\"solidity\":0.2}},\"type\":\"barpolar\"}],\"pie\":[{\"automargin\":true,\"type\":\"pie\"}]},\"layout\":{\"autotypenumbers\":\"strict\",\"colorway\":[\"#636efa\",\"#EF553B\",\"#00cc96\",\"#ab63fa\",\"#FFA15A\",\"#19d3f3\",\"#FF6692\",\"#B6E880\",\"#FF97FF\",\"#FECB52\"],\"font\":{\"color\":\"#2a3f5f\"},\"hovermode\":\"closest\",\"hoverlabel\":{\"align\":\"left\"},\"paper_bgcolor\":\"white\",\"plot_bgcolor\":\"#E5ECF6\",\"polar\":{\"bgcolor\":\"#E5ECF6\",\"angularaxis\":{\"gridcolor\":\"white\",\"linecolor\":\"white\",\"ticks\":\"\"},\"radialaxis\":{\"gridcolor\":\"white\",\"linecolor\":\"white\",\"ticks\":\"\"}},\"ternary\":{\"bgcolor\":\"#E5ECF6\",\"aaxis\":{\"gridcolor\":\"white\",\"linecolor\":\"white\",\"ticks\":\"\"},\"baxis\":{\"gridcolor\":\"white\",\"linecolor\":\"white\",\"ticks\":\"\"},\"caxis\":{\"gridcolor\":\"white\",\"linecolor\":\"white\",\"ticks\":\"\"}},\"coloraxis\":{\"colorbar\":{\"outlinewidth\":0,\"ticks\":\"\"}},\"colorscale\":{\"sequential\":[[0.0,\"#0d0887\"],[0.1111111111111111,\"#46039f\"],[0.2222222222222222,\"#7201a8\"],[0.3333333333333333,\"#9c179e\"],[0.4444444444444444,\"#bd3786\"],[0.5555555555555556,\"#d8576b\"],[0.6666666666666666,\"#ed7953\"],[0.7777777777777778,\"#fb9f3a\"],[0.8888888888888888,\"#fdca26\"],[1.0,\"#f0f921\"]],\"sequentialminus\":[[0.0,\"#0d0887\"],[0.1111111111111111,\"#46039f\"],[0.2222222222222222,\"#7201a8\"],[0.3333333333333333,\"#9c179e\"],[0.4444444444444444,\"#bd3786\"],[0.5555555555555556,\"#d8576b\"],[0.6666666666666666,\"#ed7953\"],[0.7777777777777778,\"#fb9f3a\"],[0.8888888888888888,\"#fdca26\"],[1.0,\"#f0f921\"]],\"diverging\":[[0,\"#8e0152\"],[0.1,\"#c51b7d\"],[0.2,\"#de77ae\"],[0.3,\"#f1b6da\"],[0.4,\"#fde0ef\"],[0.5,\"#f7f7f7\"],[0.6,\"#e6f5d0\"],[0.7,\"#b8e186\"],[0.8,\"#7fbc41\"],[0.9,\"#4d9221\"],[1,\"#276419\"]]},\"xaxis\":{\"gridcolor\":\"white\",\"linecolor\":\"white\",\"ticks\":\"\",\"title\":{\"standoff\":15},\"zerolinecolor\":\"white\",\"automargin\":true,\"zerolinewidth\":2},\"yaxis\":{\"gridcolor\":\"white\",\"linecolor\":\"white\",\"ticks\":\"\",\"title\":{\"standoff\":15},\"zerolinecolor\":\"white\",\"automargin\":true,\"zerolinewidth\":2},\"scene\":{\"xaxis\":{\"backgroundcolor\":\"#E5ECF6\",\"gridcolor\":\"white\",\"linecolor\":\"white\",\"showbackground\":true,\"ticks\":\"\",\"zerolinecolor\":\"white\",\"gridwidth\":2},\"yaxis\":{\"backgroundcolor\":\"#E5ECF6\",\"gridcolor\":\"white\",\"linecolor\":\"white\",\"showbackground\":true,\"ticks\":\"\",\"zerolinecolor\":\"white\",\"gridwidth\":2},\"zaxis\":{\"backgroundcolor\":\"#E5ECF6\",\"gridcolor\":\"white\",\"linecolor\":\"white\",\"showbackground\":true,\"ticks\":\"\",\"zerolinecolor\":\"white\",\"gridwidth\":2}},\"shapedefaults\":{\"line\":{\"color\":\"#2a3f5f\"}},\"annotationdefaults\":{\"arrowcolor\":\"#2a3f5f\",\"arrowhead\":0,\"arrowwidth\":1},\"geo\":{\"bgcolor\":\"white\",\"landcolor\":\"#E5ECF6\",\"subunitcolor\":\"white\",\"showland\":true,\"showlakes\":true,\"lakecolor\":\"white\"},\"title\":{\"x\":0.05},\"mapbox\":{\"style\":\"light\"}}},\"xaxis\":{\"anchor\":\"y\",\"domain\":[0.0,1.0],\"title\":{\"text\":\"x\"}},\"yaxis\":{\"anchor\":\"x\",\"domain\":[0.0,1.0],\"title\":{\"text\":\"y\"}},\"legend\":{\"tracegroupgap\":0},\"title\":{\"text\":\"Highest Inflation Rate by Country\"},\"barmode\":\"relative\"},                        {\"responsive\": true}                    ).then(function(){\n",
       "                            \n",
       "var gd = document.getElementById('09238c62-c770-4605-abd6-7661f9ddbc9e');\n",
       "var x = new MutationObserver(function (mutations, observer) {{\n",
       "        var display = window.getComputedStyle(gd).display;\n",
       "        if (!display || display === 'none') {{\n",
       "            console.log([gd, 'removed!']);\n",
       "            Plotly.purge(gd);\n",
       "            observer.disconnect();\n",
       "        }}\n",
       "}});\n",
       "\n",
       "// Listen for the removal of the full notebook cells\n",
       "var notebookContainer = gd.closest('#notebook-container');\n",
       "if (notebookContainer) {{\n",
       "    x.observe(notebookContainer, {childList: true});\n",
       "}}\n",
       "\n",
       "// Listen for the clearing of the current output cell\n",
       "var outputEl = gd.closest('.output');\n",
       "if (outputEl) {{\n",
       "    x.observe(outputEl, {childList: true});\n",
       "}}\n",
       "\n",
       "                        })                };                });            </script>        </div>"
      ]
     },
     "metadata": {},
     "output_type": "display_data"
    }
   ],
   "source": [
    "#highese inflation rate over country......\n",
    "\n",
    "import pandas as pd\n",
    "import plotly.express as px\n",
    "\n",
    "# DATAPATH\n",
    "data_paths = [\n",
    "    \"WLD_RTFP_country_2023-10-02.csv\",\n",
    "    \"WLD_RTP_details_2023-10-02.csv\"\n",
    "]\n",
    "\n",
    "\n",
    "data_df = [pd.read_csv(f\"C:\\\\Users\\\\nh013\\\\Desktop\\\\Global Food Price Inflation\\\\{path}\") for path in data_paths]\n",
    "\n",
    "\n",
    "\n",
    "#COL NAME FOR COUNTRY AND INFLATION RATE\n",
    "inflation_df = data_df[0]  \n",
    "country_column_name = \"country\"\n",
    "inflation_rate_column_name = \"Inflation\"\n",
    "\n",
    "\n",
    "\n",
    "# FIND THE HIGHEST INFLATION RATE OVER COUNTRY\n",
    "max_inflation_country = inflation_df.loc[inflation_df[inflation_rate_column_name].idxmax(), country_column_name]\n",
    "max_inflation_rate = inflation_df[inflation_rate_column_name].max()\n",
    "\n",
    "\n",
    "\n",
    "# CREATE BAR PLOT\n",
    "fig = px.bar(x=[max_inflation_country], y=[max_inflation_rate], labels={max_inflation_rate: \"Highest Inflation Rate\"},\n",
    "             title=\"Highest Inflation Rate by Country\")\n",
    "\n",
    "\n",
    "fig.show()\n"
   ]
  },
  {
   "cell_type": "code",
   "execution_count": null,
   "id": "18b6c0db",
   "metadata": {},
   "outputs": [],
   "source": []
  }
 ],
 "metadata": {
  "kernelspec": {
   "display_name": "Python 3 (ipykernel)",
   "language": "python",
   "name": "python3"
  },
  "language_info": {
   "codemirror_mode": {
    "name": "ipython",
    "version": 3
   },
   "file_extension": ".py",
   "mimetype": "text/x-python",
   "name": "python",
   "nbconvert_exporter": "python",
   "pygments_lexer": "ipython3",
   "version": "3.10.9"
  }
 },
 "nbformat": 4,
 "nbformat_minor": 5
}
